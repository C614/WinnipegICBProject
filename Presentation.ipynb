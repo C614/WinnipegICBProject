{
 "cells": [
  {
   "cell_type": "markdown",
   "id": "177742c9",
   "metadata": {
    "slideshow": {
     "slide_type": "slide"
    }
   },
   "source": [
    "# Mosquito modelling in Winnipeg\n",
    "## Aidin, Andrii, and Jonathan"
   ]
  },
  {
   "cell_type": "markdown",
   "id": "b2b79b7b",
   "metadata": {
    "slideshow": {
     "slide_type": "slide"
    }
   },
   "source": [
    "## Problems\n",
    "\n",
    " 1. Data set curation\n",
    " \n",
    " 2. Model mosquito population, spraying strategy and <font color='teal'> keep people happy </font>\n",
    "\n",
    "## Challenges\n",
    "\n",
    "<input type=\"checkbox\"> Data collection and harmonization\n",
    "\n",
    "<input type=\"checkbox\"> Background research and applicability fit\n",
    "\n",
    "<input type=\"checkbox\"> Creating and using biological models\n",
    "\n",
    "<input type=\"checkbox\"> Understanding basic science limitations"
   ]
  },
  {
   "cell_type": "markdown",
   "id": "7c9eb53e",
   "metadata": {
    "slideshow": {
     "slide_type": "slide"
    }
   },
   "source": [
    "## Accurate rain data collection"
   ]
  },
  {
   "cell_type": "markdown",
   "id": "ee9ef624",
   "metadata": {
    "slideshow": {
     "slide_type": "slide"
    }
   },
   "source": [
    "![title](PresentationImages/Screenshot_2.png)"
   ]
  },
  {
   "cell_type": "markdown",
   "id": "5eaea31a",
   "metadata": {
    "slideshow": {
     "slide_type": "subslide"
    }
   },
   "source": [
    "![title](PresentationImages/Screenshot_3.png)"
   ]
  },
  {
   "cell_type": "markdown",
   "id": "e1297b3d",
   "metadata": {
    "slideshow": {
     "slide_type": "subslide"
    }
   },
   "source": [
    "![title](PresentationImages/Map-Gridded.png)"
   ]
  },
  {
   "cell_type": "markdown",
   "id": "f47da55b",
   "metadata": {
    "slideshow": {
     "slide_type": "subslide"
    }
   },
   "source": [
    "![title](PresentationImages/Map-SingleGrid.png)\n",
    "\n",
    "And finally, we extra the dominant color from the image using K-means estimation, and then invert the colour gradient to get the rainfall."
   ]
  }
 ],
 "metadata": {
  "celltoolbar": "Slideshow",
  "kernelspec": {
   "display_name": "Python 3 (ipykernel)",
   "language": "python",
   "name": "python3"
  },
  "language_info": {
   "codemirror_mode": {
    "name": "ipython",
    "version": 3
   },
   "file_extension": ".py",
   "mimetype": "text/x-python",
   "name": "python",
   "nbconvert_exporter": "python",
   "pygments_lexer": "ipython3",
   "version": "3.9.6"
  }
 },
 "nbformat": 4,
 "nbformat_minor": 5
}
